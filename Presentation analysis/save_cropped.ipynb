{
 "cells": [
  {
   "cell_type": "code",
   "execution_count": 1,
   "metadata": {},
   "outputs": [],
   "source": [
    "from PIL import Image\n",
    "import pickle"
   ]
  },
  {
   "cell_type": "code",
   "execution_count": 2,
   "metadata": {},
   "outputs": [],
   "source": [
    "def crop_image(input_image, output_image, i):\n",
    "    \"\"\"Pass input name image, output name image, x coordinate to start croping, y coordinate to start croping, width to crop, height to crop \"\"\"\n",
    "    start_x = i[3]\n",
    "    start_y = i[0]\n",
    "    width = i[1] - start_x\n",
    "    height = i[2] - start_y\n",
    "    input_img = Image.open(input_image)\n",
    "    box = (start_x, start_y, start_x + width, start_y + height)\n",
    "    output_img = input_img.crop(box)\n",
    "    output_img.save(f'cropped\\\\{output_image[7:]}.png')"
   ]
  },
  {
   "cell_type": "code",
   "execution_count": 3,
   "metadata": {},
   "outputs": [],
   "source": [
    "with open('face_locations_therest.pickle', 'rb') as handle:\n",
    "    face_locations_therest = pickle.load(handle)"
   ]
  },
  {
   "cell_type": "code",
   "execution_count": 4,
   "metadata": {},
   "outputs": [],
   "source": [
    "for k,v in face_locations_therest.items():\n",
    "    if len(v) == 1:\n",
    "        crop_image(k,k[:-4], v[0])"
   ]
  }
 ],
 "metadata": {
  "kernelspec": {
   "display_name": "fastai",
   "language": "python",
   "name": "myenv"
  },
  "language_info": {
   "codemirror_mode": {
    "name": "ipython",
    "version": 3
   },
   "file_extension": ".py",
   "mimetype": "text/x-python",
   "name": "python",
   "nbconvert_exporter": "python",
   "pygments_lexer": "ipython3",
   "version": "3.6.6"
  }
 },
 "nbformat": 4,
 "nbformat_minor": 2
}
