{
 "cells": [
  {
   "cell_type": "code",
   "execution_count": 1,
   "metadata": {},
   "outputs": [],
   "source": [
    "import numpy as np\n",
    "import os\n",
    "import cv2\n",
    "import matplotlib.image as mpimg\n",
    "import matplotlib.pyplot as plt\n",
    "import math\n",
    "from tqdm import tqdm"
   ]
  },
  {
   "cell_type": "code",
   "execution_count": 2,
   "metadata": {},
   "outputs": [],
   "source": [
    "video = [vid for vid in os.listdir() if vid.endswith(\".mp4\")][0]"
   ]
  },
  {
   "cell_type": "code",
   "execution_count": 3,
   "metadata": {},
   "outputs": [
    {
     "data": {
      "text/plain": [
       "'email_spam.mp4'"
      ]
     },
     "execution_count": 3,
     "metadata": {},
     "output_type": "execute_result"
    }
   ],
   "source": [
    "video"
   ]
  },
  {
   "cell_type": "code",
   "execution_count": null,
   "metadata": {},
   "outputs": [],
   "source": [
    "%%time\n",
    "seconds_counter = 0\n",
    "fps = 2\n",
    "vidcap = cv2.VideoCapture(video)\n",
    "pos = int(seconds_counter*1000/fps)\n",
    "vidcap.set(cv2.CAP_PROP_POS_MSEC,pos)\n",
    "success,image = vidcap.read()\n",
    "while success:\n",
    "    minutes = int(seconds_counter/fps/60)\n",
    "    seconds = int(seconds_counter/fps)\n",
    "    millis = math.modf(seconds_counter/fps)[0]\n",
    "    cv2.imwrite(f\"frames/video_timestep_{minutes}_{seconds}_{millis}.jpg\", image) \n",
    "    seconds_counter += 1\n",
    "    vidcap = cv2.VideoCapture(video)\n",
    "    pos = int(seconds_counter*1000/fps)\n",
    "    vidcap.set(cv2.CAP_PROP_POS_MSEC,pos)\n",
    "    success,image = vidcap.read()"
   ]
  },
  {
   "cell_type": "code",
   "execution_count": null,
   "metadata": {},
   "outputs": [],
   "source": []
  }
 ],
 "metadata": {
  "kernelspec": {
   "display_name": "fastai",
   "language": "python",
   "name": "myenv"
  },
  "language_info": {
   "codemirror_mode": {
    "name": "ipython",
    "version": 3
   },
   "file_extension": ".py",
   "mimetype": "text/x-python",
   "name": "python",
   "nbconvert_exporter": "python",
   "pygments_lexer": "ipython3",
   "version": "3.6.6"
  }
 },
 "nbformat": 4,
 "nbformat_minor": 2
}
